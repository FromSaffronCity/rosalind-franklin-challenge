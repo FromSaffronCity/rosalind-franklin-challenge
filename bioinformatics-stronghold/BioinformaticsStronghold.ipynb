{
 "cells": [
  {
   "cell_type": "code",
   "execution_count": 9,
   "metadata": {},
   "outputs": [],
   "source": [
    "def inferring_mrna_from_protein(protein_string):\n",
    "    if protein_string == \"\":\n",
    "        return 0\n",
    "    total_rna_strings = 3\n",
    "    for char in protein_string:\n",
    "        total_rna_strings *= 6 if char == 'L' or char == 'R' or char == 'S' else (1 if char == 'M' or char == 'W' else (3 if char == 'I' else (4 if char == 'A' or char == 'G' or char == 'P' or char == 'T' or char == 'V' else 2)))\n",
    "    return total_rna_strings % 1000000"
   ]
  },
  {
   "cell_type": "code",
   "execution_count": 10,
   "metadata": {},
   "outputs": [],
   "source": [
    "def partial_permutations(n, r):\n",
    "    total_partial_permutations = 1 % 1000000\n",
    "    for i in range(n-r+1, n+1):\n",
    "        total_partial_permutations *= i % 1000000\n",
    "    return total_partial_permutations % 1000000"
   ]
  },
  {
   "cell_type": "code",
   "execution_count": 11,
   "metadata": {},
   "outputs": [],
   "source": [
    "def finding_a_spliced_motif(gene, motif):\n",
    "    indices = \"\"\n",
    "    if len(motif) > 0:\n",
    "        current_motif_index = 0\n",
    "        for i in range(len(gene)):\n",
    "            if gene[i] == motif[current_motif_index]:\n",
    "                indices += (\" \" if indices != \"\" else indices) + str(i+1)\n",
    "                if current_motif_index+1 < len(motif):\n",
    "                    current_motif_index += 1\n",
    "                else:\n",
    "                    break\n",
    "    return indices"
   ]
  }
 ],
 "metadata": {
  "kernelspec": {
   "display_name": "Python 3",
   "language": "python",
   "name": "python3"
  },
  "language_info": {
   "codemirror_mode": {
    "name": "ipython",
    "version": 3
   },
   "file_extension": ".py",
   "mimetype": "text/x-python",
   "name": "python",
   "nbconvert_exporter": "python",
   "pygments_lexer": "ipython3",
   "version": "3.8.5"
  }
 },
 "nbformat": 4,
 "nbformat_minor": 4
}

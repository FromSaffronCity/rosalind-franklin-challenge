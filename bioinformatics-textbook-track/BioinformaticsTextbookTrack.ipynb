{
 "cells": [
  {
   "cell_type": "code",
   "execution_count": 4,
   "metadata": {},
   "outputs": [],
   "source": [
    "def find_the_most_frequent_words_in_a_string(dna_string_text, k):\n",
    "    dictionary = {}\n",
    "    for i in range(len(dna_string_text)-k+1):\n",
    "        k_mer = dna_string_text[i:i+k]\n",
    "        if k_mer in dictionary:\n",
    "            dictionary[k_mer] = dictionary[k_mer]+1\n",
    "        else:\n",
    "            dictionary[k_mer] = 1\n",
    "    \n",
    "    most_frequent_count = 0\n",
    "    for k_mer in dictionary:\n",
    "        if most_frequent_count < dictionary[k_mer]:\n",
    "            most_frequent_count = dictionary[k_mer]\n",
    "            \n",
    "    most_frequent_k_mers = \"\"\n",
    "    for k_mer in dictionary:\n",
    "        if most_frequent_count == dictionary[k_mer]:\n",
    "            most_frequent_k_mers += (\" \" if most_frequent_k_mers != \"\" else most_frequent_k_mers) + k_mer\n",
    "    return most_frequent_k_mers"
   ]
  },
  {
   "cell_type": "code",
   "execution_count": 5,
   "metadata": {},
   "outputs": [],
   "source": [
    "def translate_an_rna_string_into_an_amino_acid_string(rna_pattern):\n",
    "    peptide_chain = \"\"\n",
    "    for i in range(0, len(rna_pattern), 3):\n",
    "        if rna_pattern[i] == 'U':\n",
    "            if rna_pattern[i+1] == 'U':\n",
    "                peptide_chain += 'F' if (rna_pattern[i+2] == 'U' or rna_pattern[i+2] == 'C') else 'L'\n",
    "            if rna_pattern[i+1] == 'C':\n",
    "                peptide_chain += 'S'\n",
    "            if rna_pattern[i+1] == 'A':\n",
    "                peptide_chain += 'Y' if (rna_pattern[i+2] == 'U' or rna_pattern[i+2] == 'C') else \"\"\n",
    "            if rna_pattern[i+1] == 'G':\n",
    "                peptide_chain += 'C' if (rna_pattern[i+2] == 'U' or rna_pattern[i+2] == 'C') else (\"\" if rna_pattern[i+2] == 'A' else 'W')\n",
    "        if rna_pattern[i] == 'C':\n",
    "            if rna_pattern[i+1] == 'U':\n",
    "                peptide_chain += 'L'\n",
    "            if rna_pattern[i+1] == 'C':\n",
    "                peptide_chain += 'P'\n",
    "            if rna_pattern[i+1] == 'A':\n",
    "                peptide_chain += 'H' if (rna_pattern[i+2] == 'U' or rna_pattern[i+2] == 'C') else 'Q'\n",
    "            if rna_pattern[i+1] == 'G':\n",
    "                peptide_chain += 'R'\n",
    "        if rna_pattern[i] == 'A':\n",
    "            if rna_pattern[i+1] == 'U':\n",
    "                peptide_chain += 'M' if rna_pattern[i+2] == 'G' else 'I'\n",
    "            if rna_pattern[i+1] == 'C':\n",
    "                peptide_chain += 'T'\n",
    "            if rna_pattern[i+1] == 'A':\n",
    "                peptide_chain += 'N' if (rna_pattern[i+2] == 'U' or rna_pattern[i+2] == 'C') else 'K'\n",
    "            if rna_pattern[i+1] == 'G':\n",
    "                peptide_chain += 'S' if (rna_pattern[i+2] == 'U' or rna_pattern[i+2] == 'C') else 'R'\n",
    "        if rna_pattern[i] == 'G':\n",
    "            if rna_pattern[i+1] == 'U':\n",
    "                peptide_chain += 'V'\n",
    "            if rna_pattern[i+1] == 'C':\n",
    "                peptide_chain += 'A'\n",
    "            if rna_pattern[i+1] == 'A':\n",
    "                peptide_chain += 'D' if (rna_pattern[i+2] == 'U' or rna_pattern[i+2] == 'C') else 'E'\n",
    "            if rna_pattern[i+1] == 'G':\n",
    "                peptide_chain += 'G'\n",
    "    return peptide_chain"
   ]
  },
  {
   "cell_type": "code",
   "execution_count": 6,
   "metadata": {},
   "outputs": [],
   "source": [
    "def transcribe_rna_from_dna(dna_string):\n",
    "    rna_string = \"\"\n",
    "    for char in dna_string:\n",
    "        rna_string += 'U' if char == 'T' else char\n",
    "    return rna_string"
   ]
  },
  {
   "cell_type": "code",
   "execution_count": 7,
   "metadata": {},
   "outputs": [],
   "source": [
    "def find_reverse_complement(dna_string):\n",
    "    reverse_complement = \"\"\n",
    "    for char in dna_string:\n",
    "        reverse_complement = ('T' if char == 'A' else ('G' if char == 'C' else ('C' if char == 'G' else 'A'))) + reverse_complement\n",
    "    return reverse_complement"
   ]
  },
  {
   "cell_type": "code",
   "execution_count": 8,
   "metadata": {},
   "outputs": [],
   "source": [
    "def find_substrings_of_a_genome_encoding_a_given_amino_acid_string(dna_string, amino_acid_string):\n",
    "    substrings = \"\"\n",
    "    for i in range(len(dna_string)-3*len(amino_acid_string)+1):\n",
    "        if translate_an_rna_string_into_an_amino_acid_string(transcribe_rna_from_dna(dna_string[i: i+3*len(amino_acid_string)])) == amino_acid_string or translate_an_rna_string_into_an_amino_acid_string(transcribe_rna_from_dna(find_reverse_complement(dna_string[i: i+3*len(amino_acid_string)]))) == amino_acid_string:\n",
    "            substrings += (\"\\n\" if substrings != \"\" else substrings) + dna_string[i: i+3*len(amino_acid_string)]\n",
    "    return substrings"
   ]
  },
  {
   "cell_type": "code",
   "execution_count": 9,
   "metadata": {},
   "outputs": [],
   "source": [
    "def calculate_hamming_distance(pattern_1, pattern_2):\n",
    "    hamming_distance = 0\n",
    "    if len(pattern_1) == len(pattern_2):\n",
    "        for i in range(len(pattern_1)):\n",
    "            hamming_distance += 1 if pattern_1[i] != pattern_2[i] else 0\n",
    "    return hamming_distance"
   ]
  },
  {
   "cell_type": "code",
   "execution_count": 10,
   "metadata": {},
   "outputs": [],
   "source": [
    "def find_all_approximate_occurrences_of_a_pattern_in_a_string(pattern, text, d):\n",
    "    starting_positions = \"\"\n",
    "    for i in range(len(text)-len(pattern)+1):\n",
    "        if calculate_hamming_distance(pattern, text[i: i+len(pattern)]) <= d:\n",
    "            starting_positions += (\" \" if starting_positions != \"\" else starting_positions) + str(i)\n",
    "    return starting_positions"
   ]
  },
  {
   "cell_type": "code",
   "execution_count": 11,
   "metadata": {},
   "outputs": [],
   "source": [
    "def find_a_longest_common_subsequence_of_two_strings(string_1, string_2):\n",
    "    table = [[] for _ in range(len(string_1)+1)]\n",
    "    for i in range(len(string_1)+1):\n",
    "        for j in range(len(string_2)+1):\n",
    "            if i == 0 or j == 0:\n",
    "                table[i].append(0)\n",
    "            else:\n",
    "                if string_1[i-1] == string_2[j-1]:\n",
    "                    table[i].append(1+table[i-1][j-1])\n",
    "                else:\n",
    "                    table[i].append(max(table[i-1][j], table[i][j-1]))\n",
    "                    \n",
    "    stack = []\n",
    "    i = len(table)-1\n",
    "    j = len(table[0])-1\n",
    "    while table[i][j] != 0:\n",
    "        if string_1[i-1] == string_2[j-1]:\n",
    "            stack.append(string_1[i-1])\n",
    "            i -= 1\n",
    "            j -= 1\n",
    "        else:\n",
    "            if table[i-1][j] > table[i][j-1]:\n",
    "                i -= 1\n",
    "            else:\n",
    "                j -= 1\n",
    "    \n",
    "    longest_common_subsequence = \"\"\n",
    "    while stack:\n",
    "        longest_common_subsequence += stack.pop()\n",
    "    return longest_common_subsequence"
   ]
  },
  {
   "cell_type": "code",
   "execution_count": 12,
   "metadata": {},
   "outputs": [],
   "source": [
    "def compute_the_number_of_breakpoints_in_a_permutation(signed_permutation):\n",
    "    permutation = signed_permutation[1: len(signed_permutation)-1].split()\n",
    "    permutation = [0] + list(map(int, permutation)) + [len(permutation)+1]\n",
    "    \n",
    "    breakpoints = 0\n",
    "    for i in range(len(permutation)-1):\n",
    "        breakpoints += 0 if permutation[i+1] - permutation[i] == 1 else 1\n",
    "    return breakpoints"
   ]
  },
  {
   "cell_type": "code",
   "execution_count": 13,
   "metadata": {},
   "outputs": [],
   "source": [
    "def find_the_minimum_number_of_coins_needed_to_make_change(money, coins):\n",
    "    coins = list(map(int, coins.split(\",\")))\n",
    "    table = [0] + [-1]*money\n",
    "    \n",
    "    for i in range(1, len(table)):\n",
    "        for coin in coins:\n",
    "            if i < coin:\n",
    "                continue\n",
    "                \n",
    "            if table[i - coin] != -1:\n",
    "                if table[i] == -1 or table[i - coin] + 1 < table[i]:\n",
    "                    table[i] = table[i - coin] + 1\n",
    "    return table[money]"
   ]
  },
  {
   "cell_type": "code",
   "execution_count": 14,
   "metadata": {},
   "outputs": [],
   "source": [
    "def find_the_length_of_a_longest_path_in_a_manhattan_like_grid(n, m, down, right):\n",
    "    manhattan_grid = []\n",
    "    \n",
    "    for i in range(n+1):\n",
    "        manhattan_grid.append([])\n",
    "        \n",
    "        for j in range(m+1):\n",
    "            if i == 0 and j == 0:\n",
    "                manhattan_grid[i].append(0)\n",
    "            elif i == 0:\n",
    "                manhattan_grid[i].append(manhattan_grid[i][j-1]+right[i][j-1])\n",
    "            elif j == 0:\n",
    "                manhattan_grid[i].append(manhattan_grid[i-1][j]+down[i-1][j])\n",
    "            else:\n",
    "                manhattan_grid[i].append(max(manhattan_grid[i][j-1]+right[i][j-1], manhattan_grid[i-1][j]+down[i-1][j]))\n",
    "    return manhattan_grid[n][m]"
   ]
  }
 ],
 "metadata": {
  "kernelspec": {
   "display_name": "Python 3",
   "language": "python",
   "name": "python3"
  },
  "language_info": {
   "codemirror_mode": {
    "name": "ipython",
    "version": 3
   },
   "file_extension": ".py",
   "mimetype": "text/x-python",
   "name": "python",
   "nbconvert_exporter": "python",
   "pygments_lexer": "ipython3",
   "version": "3.8.5"
  }
 },
 "nbformat": 4,
 "nbformat_minor": 4
}

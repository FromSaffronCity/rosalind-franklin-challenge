{
 "cells": [
  {
   "cell_type": "code",
   "execution_count": 17,
   "metadata": {},
   "outputs": [],
   "source": [
    "def find_the_most_frequent_words_in_a_string(dna_string_text, k):\n",
    "    dictionary = {}\n",
    "    for i in range(len(dna_string_text)-k+1):\n",
    "        k_mer = dna_string_text[i:i+k]\n",
    "        if k_mer in dictionary:\n",
    "            dictionary[k_mer] = dictionary[k_mer]+1\n",
    "        else:\n",
    "            dictionary[k_mer] = 1\n",
    "    \n",
    "    most_frequent_count = 0\n",
    "    for k_mer in dictionary:\n",
    "        if most_frequent_count < dictionary[k_mer]:\n",
    "            most_frequent_count = dictionary[k_mer]\n",
    "            \n",
    "    most_frequent_k_mers = \"\"\n",
    "    for k_mer in dictionary:\n",
    "        if most_frequent_count == dictionary[k_mer]:\n",
    "            most_frequent_k_mers += (\" \" if most_frequent_k_mers != \"\" else most_frequent_k_mers) + k_mer\n",
    "    return most_frequent_k_mers"
   ]
  },
  {
   "cell_type": "code",
   "execution_count": 18,
   "metadata": {},
   "outputs": [],
   "source": [
    "def translate_an_rna_string_into_an_amino_acid_string(rna_pattern):\n",
    "    peptide_chain = \"\"\n",
    "    for i in range(0, len(rna_pattern), 3):\n",
    "        if rna_pattern[i] == 'U':\n",
    "            if rna_pattern[i+1] == 'U':\n",
    "                peptide_chain += 'F' if (rna_pattern[i+2] == 'U' or rna_pattern[i+2] == 'C') else 'L'\n",
    "            if rna_pattern[i+1] == 'C':\n",
    "                peptide_chain += 'S'\n",
    "            if rna_pattern[i+1] == 'A':\n",
    "                peptide_chain += 'Y' if (rna_pattern[i+2] == 'U' or rna_pattern[i+2] == 'C') else \"\"\n",
    "            if rna_pattern[i+1] == 'G':\n",
    "                peptide_chain += 'C' if (rna_pattern[i+2] == 'U' or rna_pattern[i+2] == 'C') else (\"\" if rna_pattern[i+2] == 'A' else 'W')\n",
    "        if rna_pattern[i] == 'C':\n",
    "            if rna_pattern[i+1] == 'U':\n",
    "                peptide_chain += 'L'\n",
    "            if rna_pattern[i+1] == 'C':\n",
    "                peptide_chain += 'P'\n",
    "            if rna_pattern[i+1] == 'A':\n",
    "                peptide_chain += 'H' if (rna_pattern[i+2] == 'U' or rna_pattern[i+2] == 'C') else 'Q'\n",
    "            if rna_pattern[i+1] == 'G':\n",
    "                peptide_chain += 'R'\n",
    "        if rna_pattern[i] == 'A':\n",
    "            if rna_pattern[i+1] == 'U':\n",
    "                peptide_chain += 'M' if rna_pattern[i+2] == 'G' else 'I'\n",
    "            if rna_pattern[i+1] == 'C':\n",
    "                peptide_chain += 'T'\n",
    "            if rna_pattern[i+1] == 'A':\n",
    "                peptide_chain += 'N' if (rna_pattern[i+2] == 'U' or rna_pattern[i+2] == 'C') else 'K'\n",
    "            if rna_pattern[i+1] == 'G':\n",
    "                peptide_chain += 'S' if (rna_pattern[i+2] == 'U' or rna_pattern[i+2] == 'C') else 'R'\n",
    "        if rna_pattern[i] == 'G':\n",
    "            if rna_pattern[i+1] == 'U':\n",
    "                peptide_chain += 'V'\n",
    "            if rna_pattern[i+1] == 'C':\n",
    "                peptide_chain += 'A'\n",
    "            if rna_pattern[i+1] == 'A':\n",
    "                peptide_chain += 'D' if (rna_pattern[i+2] == 'U' or rna_pattern[i+2] == 'C') else 'E'\n",
    "            if rna_pattern[i+1] == 'G':\n",
    "                peptide_chain += 'G'\n",
    "    return peptide_chain"
   ]
  },
  {
   "cell_type": "code",
   "execution_count": 19,
   "metadata": {},
   "outputs": [],
   "source": [
    "def transcribe_rna_from_dna(dna_string):\n",
    "    rna_string = \"\"\n",
    "    for char in dna_string:\n",
    "        rna_string += 'U' if char == 'T' else char\n",
    "    return rna_string"
   ]
  },
  {
   "cell_type": "code",
   "execution_count": 20,
   "metadata": {},
   "outputs": [],
   "source": [
    "def find_reverse_complement(dna_string):\n",
    "    reverse_complement = \"\"\n",
    "    for char in dna_string:\n",
    "        reverse_complement = ('T' if char == 'A' else ('G' if char == 'C' else ('C' if char == 'G' else 'A'))) + reverse_complement\n",
    "    return reverse_complement"
   ]
  },
  {
   "cell_type": "code",
   "execution_count": 21,
   "metadata": {},
   "outputs": [],
   "source": [
    "def find_substrings_of_a_genome_encoding_a_given_amino_acid_string(dna_string, amino_acid_string):\n",
    "    substrings = \"\"\n",
    "    for i in range(len(dna_string)-3*len(amino_acid_string)+1):\n",
    "        if translate_an_rna_string_into_an_amino_acid_string(transcribe_rna_from_dna(dna_string[i: i+3*len(amino_acid_string)])) == amino_acid_string or translate_an_rna_string_into_an_amino_acid_string(transcribe_rna_from_dna(find_reverse_complement(dna_string[i: i+3*len(amino_acid_string)]))) == amino_acid_string:\n",
    "            substrings += (\"\\n\" if substrings != \"\" else substrings) + dna_string[i: i+3*len(amino_acid_string)]\n",
    "    return substrings"
   ]
  },
  {
   "cell_type": "code",
   "execution_count": 22,
   "metadata": {},
   "outputs": [],
   "source": [
    "def calculate_hamming_distance(pattern_1, pattern_2):\n",
    "    hamming_distance = 0\n",
    "    if len(pattern_1) == len(pattern_2):\n",
    "        for i in range(len(pattern_1)):\n",
    "            hamming_distance += 1 if pattern_1[i] != pattern_2[i] else 0\n",
    "    return hamming_distance"
   ]
  },
  {
   "cell_type": "code",
   "execution_count": 23,
   "metadata": {},
   "outputs": [],
   "source": [
    "def find_all_approximate_occurrences_of_a_pattern_in_a_string(pattern, text, d):\n",
    "    starting_positions = \"\"\n",
    "    for i in range(len(text)-len(pattern)+1):\n",
    "        if calculate_hamming_distance(pattern, text[i: i+len(pattern)]) <= d:\n",
    "            starting_positions += (\" \" if starting_positions != \"\" else starting_positions) + str(i)\n",
    "    return starting_positions"
   ]
  }
 ],
 "metadata": {
  "kernelspec": {
   "display_name": "Python 3",
   "language": "python",
   "name": "python3"
  },
  "language_info": {
   "codemirror_mode": {
    "name": "ipython",
    "version": 3
   },
   "file_extension": ".py",
   "mimetype": "text/x-python",
   "name": "python",
   "nbconvert_exporter": "python",
   "pygments_lexer": "ipython3",
   "version": "3.8.5"
  }
 },
 "nbformat": 4,
 "nbformat_minor": 4
}

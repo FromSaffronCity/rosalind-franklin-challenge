{
 "cells": [
  {
   "cell_type": "code",
   "execution_count": 4,
   "metadata": {},
   "outputs": [],
   "source": [
    "def find_the_most_frequent_words_in_a_string(dna_string_text, k):\n",
    "    dictionary = {}\n",
    "    for i in range(len(dna_string_text)-k+1):\n",
    "        k_mer = dna_string_text[i:i+k]\n",
    "        if k_mer in dictionary:\n",
    "            dictionary[k_mer] = dictionary[k_mer]+1\n",
    "        else:\n",
    "            dictionary[k_mer] = 1\n",
    "    \n",
    "    most_frequent_count = 0\n",
    "    for k_mer in dictionary:\n",
    "        if most_frequent_count < dictionary[k_mer]:\n",
    "            most_frequent_count = dictionary[k_mer]\n",
    "            \n",
    "    most_frequent_k_mers = \"\"\n",
    "    for k_mer in dictionary:\n",
    "        if most_frequent_count == dictionary[k_mer]:\n",
    "            most_frequent_k_mers += (\" \" if most_frequent_k_mers != \"\" else most_frequent_k_mers) + k_mer\n",
    "    return most_frequent_k_mers"
   ]
  },
  {
   "cell_type": "code",
   "execution_count": 6,
   "metadata": {},
   "outputs": [
    {
     "name": "stdout",
     "output_type": "stream",
     "text": [
      "A\n"
     ]
    }
   ],
   "source": [
    "print(find_the_most_frequent_words_in_a_string(\"\", ))"
   ]
  }
 ],
 "metadata": {
  "kernelspec": {
   "display_name": "Python 3",
   "language": "python",
   "name": "python3"
  },
  "language_info": {
   "codemirror_mode": {
    "name": "ipython",
    "version": 3
   },
   "file_extension": ".py",
   "mimetype": "text/x-python",
   "name": "python",
   "nbconvert_exporter": "python",
   "pygments_lexer": "ipython3",
   "version": "3.8.5"
  }
 },
 "nbformat": 4,
 "nbformat_minor": 4
}
